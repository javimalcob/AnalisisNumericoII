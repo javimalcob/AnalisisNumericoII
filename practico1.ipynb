{
 "cells": [
  {
   "cell_type": "code",
   "execution_count": 1,
   "id": "55480457-f25c-4454-90fc-5da433b9b21e",
   "metadata": {},
   "outputs": [],
   "source": [
    "import numpy as np"
   ]
  },
  {
   "cell_type": "code",
   "execution_count": 2,
   "id": "fb5c07e4-1953-42da-aac8-ffde2ee71799",
   "metadata": {},
   "outputs": [],
   "source": [
    "A_11 = np.array([[1.], [2.]])"
   ]
  },
  {
   "cell_type": "code",
   "execution_count": 3,
   "id": "9e7fa0df-8a7c-4af6-8f99-6f3a627070da",
   "metadata": {},
   "outputs": [],
   "source": [
    "A_12 = np.array([[3., 2],[1., 1]])"
   ]
  },
  {
   "cell_type": "code",
   "execution_count": 4,
   "id": "f1488962-90b2-4ed4-8c96-1b6db21f4eed",
   "metadata": {},
   "outputs": [],
   "source": [
    "A_21 = np.array([-1.])"
   ]
  },
  {
   "cell_type": "code",
   "execution_count": 5,
   "id": "0f8f81f0-e445-495b-9da1-31fa9129166f",
   "metadata": {},
   "outputs": [],
   "source": [
    "A_22 = np.array([0., 1])"
   ]
  },
  {
   "cell_type": "code",
   "execution_count": 6,
   "id": "2b79b35c-1121-401b-961b-ce5598d42745",
   "metadata": {},
   "outputs": [
    {
     "data": {
      "text/plain": [
       "array([[ 1.,  3.,  2.],\n",
       "       [ 2.,  1.,  1.],\n",
       "       [-1.,  0.,  1.]])"
      ]
     },
     "execution_count": 6,
     "metadata": {},
     "output_type": "execute_result"
    }
   ],
   "source": [
    "A = np.block([[A_11, A_12], [A_21, A_22]])\n",
    "A"
   ]
  },
  {
   "cell_type": "code",
   "execution_count": 7,
   "id": "3bc724d5-d78b-4c43-a934-228969269c16",
   "metadata": {},
   "outputs": [
    {
     "data": {
      "text/plain": [
       "array([[ 1.,  0.,  1.],\n",
       "       [ 2.,  1.,  1.],\n",
       "       [-1.,  2.,  0.]])"
      ]
     },
     "execution_count": 7,
     "metadata": {},
     "output_type": "execute_result"
    }
   ],
   "source": [
    "B_11 = np.array([1.])\n",
    "B_12 = np.array([0., 1])\n",
    "B_21 = np.array([[2.], [-1.]])\n",
    "B_22 = np.array([[1., 1], [2., 0]])\n",
    "B = np.block([[B_11, B_12], [B_21, B_22]])\n",
    "B"
   ]
  },
  {
   "cell_type": "code",
   "execution_count": 8,
   "id": "5609aabf-41a7-417e-856c-74e34a6d4ff4",
   "metadata": {},
   "outputs": [
    {
     "data": {
      "text/plain": [
       "array([[ 5.,  7.,  4.],\n",
       "       [ 3.,  3.,  3.],\n",
       "       [-2.,  2., -1.]])"
      ]
     },
     "execution_count": 8,
     "metadata": {},
     "output_type": "execute_result"
    }
   ],
   "source": [
    "A@B"
   ]
  },
  {
   "cell_type": "code",
   "execution_count": 9,
   "id": "a96e002c-939d-4c3b-93c1-cd195b2fdd11",
   "metadata": {},
   "outputs": [],
   "source": [
    "A_11 = A[0:2, 0]\n",
    "A_12 = A[0:2, 1:3]\n",
    "A_21 = A[2, 0]\n",
    "A_22 = A[2:, 1:3]"
   ]
  },
  {
   "cell_type": "code",
   "execution_count": 10,
   "id": "14c53cfb-7c77-440e-ba8a-88935a7696ad",
   "metadata": {},
   "outputs": [],
   "source": [
    "B_11 = B[0, 0]\n",
    "B_12 = B[0, 1:]\n",
    "B_21 = B[1:, 0]\n",
    "B_22 = B[1:, 1:]"
   ]
  },
  {
   "cell_type": "code",
   "execution_count": 11,
   "id": "045dc6d9-64f4-4f91-aed0-7e4fcbe197bc",
   "metadata": {},
   "outputs": [
    {
     "data": {
      "text/plain": [
       "array([1., 2.])"
      ]
     },
     "execution_count": 11,
     "metadata": {},
     "output_type": "execute_result"
    }
   ],
   "source": [
    "A_11"
   ]
  },
  {
   "cell_type": "code",
   "execution_count": 12,
   "id": "a3b76f33-5150-44d7-be96-aff74e148dbb",
   "metadata": {},
   "outputs": [
    {
     "data": {
      "text/plain": [
       "array([5., 3.])"
      ]
     },
     "execution_count": 12,
     "metadata": {},
     "output_type": "execute_result"
    }
   ],
   "source": [
    "C_11 = A_11*B_11 + A_12@B_21\n",
    "C_11"
   ]
  },
  {
   "cell_type": "code",
   "execution_count": 13,
   "id": "41398ec6-e68f-4b6f-b0c7-b647a4585740",
   "metadata": {},
   "outputs": [
    {
     "data": {
      "text/plain": [
       "array([[7., 4.],\n",
       "       [3., 3.]])"
      ]
     },
     "execution_count": 13,
     "metadata": {},
     "output_type": "execute_result"
    }
   ],
   "source": [
    "C_12 = np.outer(A_11, B_12) + A_12 @ B_22\n",
    "C_12"
   ]
  },
  {
   "cell_type": "code",
   "execution_count": 14,
   "id": "e4d9b28e-e104-405f-aeb5-c943379f4ce0",
   "metadata": {},
   "outputs": [
    {
     "data": {
      "text/plain": [
       "array([-2.])"
      ]
     },
     "execution_count": 14,
     "metadata": {},
     "output_type": "execute_result"
    }
   ],
   "source": [
    "C_21 = A_21 * B_11 + A_22 @ B_21\n",
    "C_21"
   ]
  },
  {
   "cell_type": "code",
   "execution_count": 15,
   "id": "2ace3e3f-ace6-4295-82e0-125792d89014",
   "metadata": {},
   "outputs": [
    {
     "data": {
      "text/plain": [
       "array([[ 2., -1.]])"
      ]
     },
     "execution_count": 15,
     "metadata": {},
     "output_type": "execute_result"
    }
   ],
   "source": [
    "C_22 = A_21 * B_12 + A_22 @ B_22\n",
    "C_22"
   ]
  },
  {
   "cell_type": "code",
   "execution_count": 276,
   "id": "92eea6f5-20cf-401f-9abd-12ac38944e46",
   "metadata": {},
   "outputs": [],
   "source": [
    "def sol_trinffil(A, b):\n",
    "    '''Sustitucion hacia adelante por filas para matrices triangulares inferiores'\n",
    "    Parameters\n",
    "    ----------\n",
    "    A: numpy array n-D\n",
    "    b: numpy array 1-D\n",
    "\n",
    "    Return\n",
    "    ------\n",
    "    out: numpy array 1-D, x talque Ax = b\n",
    "    '''\n",
    "    n = len(b)\n",
    "    x = np.zeros(n)\n",
    "    j = np.where(b!=0)[0][0]\n",
    "    x[0] = b[0]/A[0,0]\n",
    "    \n",
    "    if n > 1:\n",
    "        for i in range(j,n):\n",
    "            x[i] = (b[i] - A[i, j:i] @ x[j:i])/A[i, i]\n",
    "\n",
    "    return x"
   ]
  },
  {
   "cell_type": "code",
   "execution_count": 277,
   "id": "ea0490b1-f15b-466e-adf8-a17451f9bf04",
   "metadata": {},
   "outputs": [],
   "source": [
    "def sol_trinfcol(A, b):\n",
    "    '''Sustitucion hacia adelante por columnas para matrices triangulares inferiores'\n",
    "    Parameters\n",
    "    ----------\n",
    "    A: numpy array n-D (Matriz n x n)\n",
    "    b: numpy array 1-D\n",
    "\n",
    "    Return\n",
    "    ------\n",
    "    out: numpy array 1-D, x talque Ax = b\n",
    "    '''\n",
    "    n = len(b)\n",
    "    x = np.copy(b) # esta linea es importante para no modificar b!\n",
    "    j = np.where(b!=0)[0][0]\n",
    "    \n",
    "    if n > 1:\n",
    "        for i in range(j, n-1):\n",
    "            x[i] = x[i]/A[i, i]\n",
    "            x[i+1:] = x[i+1:] - A[i+1:, i] * x[i]\n",
    "           \n",
    "    x[n-1] = x[n-1]/A[n-1,n-1]\n",
    "       \n",
    "    return x"
   ]
  },
  {
   "cell_type": "code",
   "execution_count": 278,
   "id": "f44763cd-5591-4a13-a299-c21ddfa6aa12",
   "metadata": {},
   "outputs": [],
   "source": [
    "def sol_trsupfil(A, b):\n",
    "    '''Sustitucion hacia atras por filas para matrices triangulares superiores'\n",
    "    Parameters\n",
    "    ----------\n",
    "    A: numpy array n-D con elementos de la diagonal principal no nula\n",
    "    b: numpy array 1-D\n",
    "\n",
    "    Return\n",
    "    ------\n",
    "    out: numpy array 1-D , x talque Ax = b\n",
    "    '''\n",
    "    n = len(b)\n",
    "    x = np.zeros(n)\n",
    "    j = np.where(b!=0)[0][-1]\n",
    "    x[n-1] = b[n-1]/A[n-1, n-1]\n",
    "    \n",
    "    if n > 1:\n",
    "        for i in range(j, -1 , -1):\n",
    "            x[i] = (b[i] - A[i, i+1:] @ x[i+1:])/A[i, i]\n",
    "            \n",
    "    return x"
   ]
  },
  {
   "cell_type": "code",
   "execution_count": 279,
   "id": "5c0f2834-0563-4992-95b1-b2e86943760f",
   "metadata": {},
   "outputs": [],
   "source": [
    "def sol_trsupcol(A, b):\n",
    "    '''Sustitucion hacia atras por columnas para matrices triangulares superiores'\n",
    "    Parameters\n",
    "    ----------\n",
    "    A: numpy array n-D con elementos de la diagonal principal no nula\n",
    "    b: numpy array 1-D\n",
    "\n",
    "    Return\n",
    "    ------\n",
    "    out: numpy array 1-D , x talque Ax = b\n",
    "    '''\n",
    "    n = len(b)\n",
    "    x = np.copy(b)\n",
    "    j = np.where(b!=0)[0][-1]\n",
    "    \n",
    "    if n > 1:\n",
    "        for i in range(j, 0 , -1):\n",
    "            x[i] = x[i]/A[i, i]\n",
    "            x[:i] = x[:i] - A[:i, i] * x[i] \n",
    "            \n",
    "    x[0] = x[0]/A[0, 0]\n",
    "    return x"
   ]
  },
  {
   "cell_type": "code",
   "execution_count": 294,
   "id": "1e06eb3a-4269-496b-ab80-3cceb0236df7",
   "metadata": {},
   "outputs": [],
   "source": [
    "A1 = np.array([[1., 0, 0, 0], \n",
    "          [-1., 1, 0, 0],\n",
    "          [0., -1, 1, 0],\n",
    "          [0., 0, -2, 2]])\n",
    "\n",
    "b1 = np.array([0., 0, 1, 1])"
   ]
  },
  {
   "cell_type": "code",
   "execution_count": 295,
   "id": "1b9ccc78-5a4d-4741-b3f1-d393f997f99d",
   "metadata": {},
   "outputs": [
    {
     "name": "stdout",
     "output_type": "stream",
     "text": [
      "A1 [[ 1.  0.  0.  0.]\n",
      " [-1.  1.  0.  0.]\n",
      " [ 0. -1.  1.  0.]\n",
      " [ 0.  0. -2.  2.]] x1 [0.  0.  1.  1.5] b1: [0. 0. 1. 1.]\n"
     ]
    }
   ],
   "source": [
    "x1 = sol_trinffil(A1, b1)\n",
    "print('A1', A1, 'x1', x1, 'b1:', A1@x1 )"
   ]
  },
  {
   "cell_type": "code",
   "execution_count": 296,
   "id": "c3f2d716-5483-4e01-a6a0-60466b6ba825",
   "metadata": {},
   "outputs": [
    {
     "name": "stdout",
     "output_type": "stream",
     "text": [
      "A1 [[ 1.  0.  0.  0.]\n",
      " [-1.  1.  0.  0.]\n",
      " [ 0. -1.  1.  0.]\n",
      " [ 0.  0. -2.  2.]] x1 [0.  0.  1.  1.5] b1: [0. 0. 1. 1.]\n"
     ]
    }
   ],
   "source": [
    "x1 = sol_trinfcol(A1, b1)\n",
    "print('A1', A1, 'x1', x1, 'b1:', A1@x1)"
   ]
  },
  {
   "cell_type": "code",
   "execution_count": 297,
   "id": "638238f3-f82d-440e-90b3-c5f03ada8fa1",
   "metadata": {},
   "outputs": [],
   "source": [
    "A2 = np.array([[2., 0, 0, 0], \n",
    "          [-1., 2, 0, 0],\n",
    "          [3., 1, -1, 0],\n",
    "          [4., 1, -3, 3]])\n",
    "\n",
    "b2 = np.array([2., 3, 2, 9])"
   ]
  },
  {
   "cell_type": "code",
   "execution_count": 298,
   "id": "72ddcf49-c93e-4c4f-96c3-e15d03a1d8db",
   "metadata": {},
   "outputs": [
    {
     "name": "stdout",
     "output_type": "stream",
     "text": [
      "A2 [[ 2.  0.  0.  0.]\n",
      " [-1.  2.  0.  0.]\n",
      " [ 3.  1. -1.  0.]\n",
      " [ 4.  1. -3.  3.]] x2 [1. 2. 3. 4.] b2: [2. 3. 2. 9.]\n"
     ]
    }
   ],
   "source": [
    "x2 = sol_trinffil(A2, b2)\n",
    "print('A2', A2, 'x2', x2, 'b2:', A2@x2 )"
   ]
  },
  {
   "cell_type": "code",
   "execution_count": 299,
   "id": "196f18c2-42fe-4b1b-a822-73dce853f23a",
   "metadata": {},
   "outputs": [
    {
     "name": "stdout",
     "output_type": "stream",
     "text": [
      "A2 [[ 2.  0.  0.  0.]\n",
      " [-1.  2.  0.  0.]\n",
      " [ 3.  1. -1.  0.]\n",
      " [ 4.  1. -3.  3.]] x2 [1. 2. 3. 4.] b2: [2. 3. 2. 9.]\n"
     ]
    }
   ],
   "source": [
    "x2 = sol_trinfcol(A2, b2)\n",
    "print('A2', A2, 'x2', x2, 'b2:', A2@x2 )"
   ]
  },
  {
   "cell_type": "code",
   "execution_count": 300,
   "id": "b25d77b9-1e60-46d3-8d3c-bda16a0522a0",
   "metadata": {},
   "outputs": [],
   "source": [
    "A3 = np.array([[9., 2, 4], \n",
    "          [0., -6, 3],\n",
    "          [0., 0, 5]])\n",
    "\n",
    "b3 = np.array([18., -2, 7])"
   ]
  },
  {
   "cell_type": "code",
   "execution_count": 301,
   "id": "662fd093-6139-4fc6-afe0-709aee654810",
   "metadata": {},
   "outputs": [
    {
     "name": "stdout",
     "output_type": "stream",
     "text": [
      "A3 [[ 9.  2.  4.]\n",
      " [ 0. -6.  3.]\n",
      " [ 0.  0.  5.]] x3 [1.14814815 1.03333333 1.4       ] b3: [18. -2.  7.]\n"
     ]
    }
   ],
   "source": [
    "x3 = sol_trsupfil(A3, b3)\n",
    "print('A3', A3, 'x3', x3, 'b3:', A3@x3 )"
   ]
  },
  {
   "cell_type": "code",
   "execution_count": 302,
   "id": "fcc6d611-3051-44ef-a948-aa16d00fa417",
   "metadata": {},
   "outputs": [
    {
     "name": "stdout",
     "output_type": "stream",
     "text": [
      "A3 [[ 9.  2.  4.]\n",
      " [ 0. -6.  3.]\n",
      " [ 0.  0.  5.]] x3 [1.14814815 1.03333333 1.4       ] b3: [18. -2.  7.]\n"
     ]
    }
   ],
   "source": [
    "x3 = sol_trsupcol(A3, b3)\n",
    "print('A3', A3, 'x3', x3, 'b3:', A3@x3 )"
   ]
  },
  {
   "cell_type": "code",
   "execution_count": 303,
   "id": "e2efc483-0112-4b71-8262-0c716ca871c3",
   "metadata": {},
   "outputs": [],
   "source": [
    "A4 = np.array([[1., 2, -1, 1], \n",
    "          [0., 1, 0, -1],\n",
    "          [0., 0, -1, 4],\n",
    "          [0., 0, 0, 1]])\n",
    "\n",
    "b4 = np.array([2., -1, 0, 0])"
   ]
  },
  {
   "cell_type": "code",
   "execution_count": 306,
   "id": "c3dee442-16fa-4dc8-97d6-3f57989cbec5",
   "metadata": {},
   "outputs": [
    {
     "name": "stdout",
     "output_type": "stream",
     "text": [
      "A4 [[ 1.  2. -1.  1.]\n",
      " [ 0.  1.  0. -1.]\n",
      " [ 0.  0. -1.  4.]\n",
      " [ 0.  0.  0.  1.]] x4 [ 4. -1.  0.  0.] b4: [ 2. -1.  0.  0.]\n"
     ]
    }
   ],
   "source": [
    "x4 = sol_trsupfil(A4, b4)\n",
    "print('A4', A4, 'x4', x4, 'b4:', A4@x4)"
   ]
  },
  {
   "cell_type": "code",
   "execution_count": 307,
   "id": "477a3b9a-7528-4b1a-960a-6f6e713a9c86",
   "metadata": {},
   "outputs": [
    {
     "name": "stdout",
     "output_type": "stream",
     "text": [
      "A4 [[ 1.  2. -1.  1.]\n",
      " [ 0.  1.  0. -1.]\n",
      " [ 0.  0. -1.  4.]\n",
      " [ 0.  0.  0.  1.]] x4 [ 4. -1.  0.  0.] b4: [ 2. -1.  0.  0.]\n"
     ]
    }
   ],
   "source": [
    "x4 = sol_trsupcol(A4, b4)\n",
    "print('A4', A4, 'x4', x4, 'b4:', A4@x4 )"
   ]
  },
  {
   "cell_type": "code",
   "execution_count": null,
   "id": "4cc16e4f-aedf-491e-b901-0ba197768c71",
   "metadata": {},
   "outputs": [],
   "source": []
  },
  {
   "cell_type": "code",
   "execution_count": null,
   "id": "16f2e09e-8bd7-44ca-a046-eccb2a9c0d55",
   "metadata": {},
   "outputs": [],
   "source": []
  }
 ],
 "metadata": {
  "kernelspec": {
   "display_name": "Python 3 (ipykernel)",
   "language": "python",
   "name": "python3"
  },
  "language_info": {
   "codemirror_mode": {
    "name": "ipython",
    "version": 3
   },
   "file_extension": ".py",
   "mimetype": "text/x-python",
   "name": "python",
   "nbconvert_exporter": "python",
   "pygments_lexer": "ipython3",
   "version": "3.12.4"
  }
 },
 "nbformat": 4,
 "nbformat_minor": 5
}
